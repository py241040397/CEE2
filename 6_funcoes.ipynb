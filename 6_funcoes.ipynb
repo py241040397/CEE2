{
  "nbformat": 4,
  "nbformat_minor": 0,
  "metadata": {
    "colab": {
      "provenance": [],
      "toc_visible": true,
      "include_colab_link": true
    },
    "kernelspec": {
      "name": "python3",
      "display_name": "Python 3"
    },
    "language_info": {
      "name": "python"
    }
  },
  "cells": [
    {
      "cell_type": "markdown",
      "metadata": {
        "id": "view-in-github",
        "colab_type": "text"
      },
      "source": [
        "<a href=\"https://colab.research.google.com/github/py241040397/CEE2/blob/main/6_funcoes.ipynb\" target=\"_parent\"><img src=\"https://colab.research.google.com/assets/colab-badge.svg\" alt=\"Open In Colab\"/></a>"
      ]
    },
    {
      "cell_type": "markdown",
      "source": [
        "# Funções"
      ],
      "metadata": {
        "id": "ucToMMLJyE_W"
      }
    },
    {
      "cell_type": "markdown",
      "source": [
        "## Definiçõe e exemplos\n",
        "\n",
        "No desenvolvimento de códigos é comum a necessidade definir sub-rotinas que serão usadas outras vezes ao longo do código. Estas sub-rotinas são chamadas de **funções**. Elas ajudam a organizar o código, tornando-o mais modular, legível e fácil de manter.\n",
        "\n",
        "Para definir uma função em Python, usamos a palavra-chave `def` seguida do nome da função e dos parênteses. Se a função aceitar argumentos (valores que podem ser passados para a função), eles são colocados dentro dos parênteses.\n",
        "\n",
        "Um exemplo básico seria:"
      ],
      "metadata": {
        "id": "kw9ZDVyOyGr-"
      }
    },
    {
      "cell_type": "code",
      "source": [
        "def nome_da_funcao(argumento1, argumento2):\n",
        "    # Bloco de código da função\n",
        "    resultado = argumento1 + argumento2\n",
        "    return resultado  # Retorna o valor final"
      ],
      "metadata": {
        "id": "ZzCoUbVuIXVT"
      },
      "execution_count": null,
      "outputs": []
    },
    {
      "cell_type": "markdown",
      "source": [
        "Aqui está uma explicação básica dos elementos:\n",
        "\n",
        "* `def`: Define a função.\n",
        "* `nome_da_funcao`: Nome que você dá à função (como \"soma\", \"imprimir_mensagem\", \"ajuste_modelo\", etc.).\n",
        "* `Argumentos`: São valores ou variáveis que podem ser passados para a função.\n",
        "* `return`: Devolve o valor final da função para ser usado em outras partes do código. Se não for especificado, a função retorna `None` (nada)."
      ],
      "metadata": {
        "id": "NO2QK6S-IbcI"
      }
    },
    {
      "cell_type": "markdown",
      "source": [
        "Exemplo: função que soma dois números"
      ],
      "metadata": {
        "id": "A7DMIMNKPYvP"
      }
    },
    {
      "cell_type": "code",
      "source": [
        "def soma(a, b):\n",
        "    return a + b\n",
        "\n",
        "# Teste a função\n",
        "resultado = soma(5.57, 3)\n",
        "print(f\"A soma é: {resultado:.1f}\")"
      ],
      "metadata": {
        "id": "kVwpD42WPh2-"
      },
      "execution_count": null,
      "outputs": []
    },
    {
      "cell_type": "markdown",
      "source": [
        "Exemplo: a execução é feita apenas até o return"
      ],
      "metadata": {
        "id": "SPZGwXqTovQc"
      }
    },
    {
      "cell_type": "code",
      "source": [
        "def squared(x):\n",
        "  return x ** 2\n",
        "  print(\"Esta linha não é executada!\")\n",
        "\n",
        "print(squared(3))"
      ],
      "metadata": {
        "id": "RZl7X8jboygu"
      },
      "execution_count": null,
      "outputs": []
    },
    {
      "cell_type": "markdown",
      "source": [
        "Exemplo: A função cumprimentar recebe um argumento (nome) e exibe uma mensagem de boas-vindas."
      ],
      "metadata": {
        "id": "oXfvsGUkKyiZ"
      }
    },
    {
      "cell_type": "code",
      "source": [
        "# Exemplo de uma Função\n",
        "def cumprimentar(nome):\n",
        "    print(f\"Olá, {nome}! Seja bem-vindo.\")\n",
        "\n",
        "# Chamando a função\n",
        "cumprimentar(\"Ana\")\n",
        "cumprimentar(\"Paula\")\n",
        "cumprimentar(\"Jose\")"
      ],
      "metadata": {
        "id": "LZgOn8vnI3OX"
      },
      "execution_count": null,
      "outputs": []
    },
    {
      "cell_type": "markdown",
      "source": [
        "Outro exemplo, agora utilizando dois argumentos."
      ],
      "metadata": {
        "id": "0ACScB3eLFvS"
      }
    },
    {
      "cell_type": "code",
      "source": [
        "def cumprimentar2(cumprimento, nome):\n",
        "    print(cumprimento + \", \" + nome + \"!\")\n",
        "\n",
        "# Chamando a função\n",
        "cumprimentar2(\"Bom dia\",\"Ana\")\n",
        "cumprimentar2(\"Boa tarde\",\"Paula\")\n",
        "cumprimentar2(\"Boa noite\", \"Jose\")"
      ],
      "metadata": {
        "id": "JJb4GlcpyjU9"
      },
      "execution_count": null,
      "outputs": []
    },
    {
      "cell_type": "markdown",
      "source": [
        "Os parâmetros podem ser passados para a função na forma *posicional* como no exemplo anterior, ou na forma *nomeada* como no exemplo abaixo. A vantagem da forma nomeada é que não é obrigatório manter a ordem dos parâmetros definidas na função:"
      ],
      "metadata": {
        "id": "xl0nWo4DMwiE"
      }
    },
    {
      "cell_type": "code",
      "source": [
        "cumprimentar2( cumprimento=\"Bom dia\", nome=\"Ana\")    # Parâmetros nomeados.\n",
        "cumprimentar2( nome=\"Ana\", cumprimento=\"Bom dia\")     # Parâmetros nomeados fora de ordem."
      ],
      "metadata": {
        "id": "7ndgbczuMxHp"
      },
      "execution_count": null,
      "outputs": []
    },
    {
      "cell_type": "markdown",
      "source": [
        "As funções podem admitir uma **quantidade arbitrária de parâmetros**. Isto pode ser realizada passando parâmetros posicionais ou nomeados.\n",
        "\n",
        "- Parâmetros Posicionais: os argumentos podem ser passados como um tupla e recebidos como `*args`, neste caso, o que prevalece é a posição.\n",
        "\n",
        "- Parâmetros Nomeados: os argumentos podem ser passados em formato de dicionário (com os nomes dos parâmetros como chaves) e recebidos como `**args`.\n",
        "\n",
        "Veja os exemplos abaixo:"
      ],
      "metadata": {
        "id": "66yFf7binD8j"
      }
    },
    {
      "cell_type": "code",
      "source": [
        "## Argumentos transferidos por posição e recebidos como tupla.\n",
        "\n",
        "def comprar(*args):\n",
        "  for item in args:\n",
        "    print(\"Preciso comprar \" + item + \".\")\n",
        "\n",
        "comprar(\"tomate\", \"cebola\", \"alface\")"
      ],
      "metadata": {
        "id": "bFhxAARmbtkN"
      },
      "execution_count": null,
      "outputs": []
    },
    {
      "cell_type": "code",
      "source": [
        "## Exemplo de parâmetros nomeados, recebidos como dicionário.\n",
        "\n",
        "# Esta função captura os dados do usuário, passados como parâmetros nomeados,\n",
        "# em um dicionário.\n",
        "def user(**args):\n",
        "  print(\"Primeiro nome  : \" + args[\"fname\"])\n",
        "  print(\"Último nome    : \" + args[\"lname\"])\n",
        "  print(\"Nome de usuário: \" + args[\"username\"])\n",
        "  print(\"Senha          : \" + args[\"pwd\"])\n",
        "\n",
        "user(fname = \"Peter\", lname = \"Norton\", username = \"pnorton\", pwd = \"12345\")"
      ],
      "metadata": {
        "id": "zp2SeqHjnLMc"
      },
      "execution_count": null,
      "outputs": []
    },
    {
      "cell_type": "code",
      "source": [
        "## Outro exemplo de parâmetros nomeados, agora transferidos como dicionário\n",
        "\n",
        "## Claro que a função anterior também pode ser implementada\n",
        "## utilizando um dicionário\n",
        "def user(args):\n",
        "  print(\"Primeiro nome  : \" + args[\"fname\"])\n",
        "  print(\"Último nome    : \" + args[\"lname\"])\n",
        "  print(\"Nome de usuário: \" + args[\"username\"])\n",
        "  print(\"Senha          : \" + args[\"pwd\"])\n",
        "\n",
        "user( dict(fname = \"Peter\", lname = \"Norton\", username = \"pnorton\", pwd = \"12345\") )"
      ],
      "metadata": {
        "id": "OvTy0oxqUiP4"
      },
      "execution_count": null,
      "outputs": []
    },
    {
      "cell_type": "markdown",
      "source": [
        "Esses conceitos também podem ser combinados.\n",
        "\n",
        "No exemplo abaixo, o primeiro item não nomerado é transmitido para o primeiro argumento, os demais itens não enumerados são transmitidos para a tupla e os itens nomeados são transmitidos para o dicionário."
      ],
      "metadata": {
        "id": "syjdnHXjdTzj"
      }
    },
    {
      "cell_type": "code",
      "source": [
        "# Esta função combinam os dois conceitos.\n",
        "def planejar_viagem(destino, *rota, **veiculo):\n",
        "\n",
        "    print(\"Estou viajando para: \" + destino + \".\")\n",
        "\n",
        "    for item in rota:\n",
        "      print(\"Vou visitar: \" + item + \".\")\n",
        "\n",
        "    print(\"Vou utilizar: \" + veiculo[\"carro\"] +\n",
        "        \" de \" + str(veiculo[\"ano_fabricacao\"]) +\n",
        "        \" abastecido com \" + veiculo[\"combustivel\"] + \".\")\n",
        "\n",
        "planejar_viagem(\"Rio de Janeiro\", \"Goiânia\", \"Belo Horizonte\", \"São Paulo\",\n",
        "                carro=\"Corolla\", ano_fabricacao=2020, combustivel=\"gasolina\")"
      ],
      "metadata": {
        "id": "cd5omNczOfkI"
      },
      "execution_count": null,
      "outputs": []
    },
    {
      "cell_type": "markdown",
      "source": [
        "Claro que o formato convencional permite uma melhor organização do código.\n",
        "\n",
        "Veja a replicação do ultimo exemplo abaixo."
      ],
      "metadata": {
        "id": "wMySBTmvd7Kz"
      }
    },
    {
      "cell_type": "code",
      "source": [
        "def planejar_viagem(destino, rota, veiculo):\n",
        "  print(\"Estou viajando para: \" + destino + \".\")\n",
        "\n",
        "  for item in rota:\n",
        "    print(\"Vou visitar: \" + item + \".\")\n",
        "\n",
        "  print(\"Vou utilizar: \" + veiculo[\"carro\"] +\n",
        "        \" de \" + str(veiculo[\"ano_fabricacao\"]) +\n",
        "        \" abastecido com \" + veiculo[\"combustivel\"] + \".\")\n",
        "\n",
        "planejar_viagem(\n",
        "    destino=\"Rio de Janeiro\",\n",
        "    rota = list( (\"Goiânia\", \"Belo Horizonte\", \"São Paulo\") ),\n",
        "    veiculo = dict(carro=\"Corolla\", ano_fabricacao=2020, combustivel=\"gasolina\")\n",
        "     )"
      ],
      "metadata": {
        "id": "CQms2ytgWCVY"
      },
      "execution_count": null,
      "outputs": []
    },
    {
      "cell_type": "markdown",
      "source": [
        "As funções admitem **valores padrão** para seus parâmetros:"
      ],
      "metadata": {
        "id": "KVMzPtnjn8D9"
      }
    },
    {
      "cell_type": "code",
      "source": [
        "def saudacao(nome=\"Visitante\", mensagem=\"Bem-vindo(a) ao nosso sistema!\"):\n",
        "    print(f\"Olá, {nome}! {mensagem}\")\n",
        "\n",
        "# Chamadas da função\n",
        "saudacao()  # Usa os valores padrão\n",
        "saudacao(\"Ana\")  # Usa um valor personalizado para 'nome'\n",
        "saudacao(\"Carlos\", \"Espero que você esteja aproveitando o conteúdo!\")  # Usa valores personalizados para ambos\n"
      ],
      "metadata": {
        "id": "PDuAeR4doGXX"
      },
      "execution_count": null,
      "outputs": []
    },
    {
      "cell_type": "markdown",
      "source": [
        "Explicação:\n",
        "\n",
        "* A função `saudacao` possui dois parâmetros, `nome` e `mensagem`, ambos com valores padrão.\n",
        "\n",
        "* Quando você chama a função sem argumentos, ela usa os valores padrão (\"Visitante\" e \"Bem-vindo(a) ao nosso sistema!\").\n",
        "\n",
        "* Ao fornecer valores, você substitui os valores padrão."
      ],
      "metadata": {
        "id": "FpwFnqM1XyQ7"
      }
    },
    {
      "cell_type": "markdown",
      "source": [
        "### Importante"
      ],
      "metadata": {
        "id": "9lFsxq6rRIvl"
      }
    },
    {
      "cell_type": "markdown",
      "source": [
        "* Os parâmetros sem valores padrão nas funções precisam *sempre* ser fornecidos.\n",
        "\n",
        "* Os parâmetros podem ser fornecidos fora de ordem, desde que sejam nomeados."
      ],
      "metadata": {
        "id": "fCBIvrJGo758"
      }
    },
    {
      "cell_type": "code",
      "source": [
        "def func(a, b, c):\n",
        "  pass    # Use 'pass' quando o bloco não tiver um corpo ainda!!!\n",
        "\n",
        "#func(1, 2)                  # ERRO: falta um dos parâmetros\n",
        "func(c = 2, a = 3, b = 5)    # Parâmetros fora de ordem devem ser nomeados."
      ],
      "metadata": {
        "id": "ojQGTKV4pKic"
      },
      "execution_count": null,
      "outputs": []
    },
    {
      "cell_type": "markdown",
      "source": [
        "## Retorno\n",
        "\n",
        "\n",
        "**Lembrete:** objetos separados por virgula formam uma tupla. Esse é o formato tradicional de retorno de uma função em python.\n",
        "\n",
        "Podemos desempacotar a saída de uma função de várias formas — inclusive misturando tuplas com dicionários (ou outros tipos), dependendo de como a função retorna os dados.\n",
        "\n",
        "Veja os exemplos:"
      ],
      "metadata": {
        "id": "aV4UOf7-h2lj"
      }
    },
    {
      "cell_type": "code",
      "source": [
        "## Nesse exemplo, retornamos uma tupla formada por dois objetos (lista e dicionário)\n",
        "def exemplo():\n",
        "    return [1, 2, 3], {\"a\": \"A\", \"b\": \"B\"}\n",
        "\n",
        "a = exemplo()\n",
        "\n",
        "print(type(a))\n",
        "\n",
        "lista, dicionario = exemplo()\n",
        "print(lista)          # 1 2 3\n",
        "print(dicionario)    # Erro se usar diretamente no print, mas..."
      ],
      "metadata": {
        "id": "TqCYcUxGkSKL"
      },
      "execution_count": null,
      "outputs": []
    },
    {
      "cell_type": "code",
      "source": [
        "## Essa função retorna um dicionário em conjunto com duas variáveis\n",
        "## os elementos são desempacotados diretamente\n",
        "\n",
        "def dados():\n",
        "    nome = \"Pedro\"\n",
        "    idade = 30\n",
        "    info_extra = {\"cidade\": \"Curitiba\", \"ativo\": True}\n",
        "    return nome, idade, info_extra\n",
        "\n",
        "n, i, extra = dados()\n",
        "\n",
        "print(n)       # Pedro\n",
        "print(i)       # 30\n",
        "print(extra)   # {'cidade': 'Curitiba', 'ativo': True}\n"
      ],
      "metadata": {
        "id": "Snve7uJsiPYk"
      },
      "execution_count": null,
      "outputs": []
    },
    {
      "cell_type": "code",
      "source": [
        "## nesse exemplo um dicionários é desempacotado dendro de um tupla\n",
        "\n",
        "def dados():\n",
        "    return (\"Ana\", 25, {\"curso\": \"Python\", \"nível\": \"Avançado\"})\n",
        "\n",
        "nome, idade, info = dados()\n",
        "curso, nivel = info[\"curso\"], info[\"nível\"]\n",
        "\n",
        "print(nome)   # Ana\n",
        "print(curso)  # Python\n"
      ],
      "metadata": {
        "id": "Mxz9lj3jjIlF"
      },
      "execution_count": null,
      "outputs": []
    },
    {
      "cell_type": "markdown",
      "source": [
        "## Documentação\n",
        "E interessante que uma função seja documentada descrevendo o que aquele código faz e como deve ser utilizado.\n",
        "\n",
        "\n"
      ],
      "metadata": {
        "id": "B0es4rotoQvf"
      }
    },
    {
      "cell_type": "code",
      "source": [
        "def area_retangulo(largura, altura=1):\n",
        "    \"\"\"\n",
        "    Calcula a área de um retângulo.\n",
        "\n",
        "    Esta função calcula a área de um retângulo multiplicando a largura pela altura.\n",
        "    Se a altura não for especificada, assume o valor padrão de 1.\n",
        "\n",
        "    Parameters:\n",
        "    largura (float): A largura do retângulo.\n",
        "    altura (float, opcional): A altura do retângulo. Padrão é 1.\n",
        "\n",
        "    Returns:\n",
        "    float: A área do retângulo calculada como largura * altura.\n",
        "\n",
        "    Example:\n",
        "    >>> calcular_area_retangulo(5, 10)\n",
        "    50\n",
        "    >>> calcular_area_retangulo(5)\n",
        "    5\n",
        "    \"\"\"\n",
        "    return largura * altura\n"
      ],
      "metadata": {
        "id": "chiywQcut1Hn"
      },
      "execution_count": null,
      "outputs": []
    },
    {
      "cell_type": "markdown",
      "source": [
        "Explicação da docstring:\n",
        "\n",
        "1. Descrição: A primeira linha explica o que a função faz de forma resumida.\n",
        "1. Detalhamento: Explica o funcionamento da função e descreve o valor padrão do argumento altura.\n",
        "1. Parâmetros: Detalha cada parâmetro, seu tipo e função na operação.\n",
        "1. Retorno: Descreve o que a função retorna e o tipo de dado esperado.\n",
        "1. Exemplos: Fornece exemplos de uso da função, com valores que mostram o comportamento padrão e personalizado.\n",
        "\n",
        "Esse padrão de documentação ajuda outros desenvolvedores a entender o uso e o comportamento da função."
      ],
      "metadata": {
        "id": "q9yqYG7mZ3P5"
      }
    },
    {
      "cell_type": "code",
      "source": [
        "## veja como o usuária pode consultar a documentação de uma função\n",
        "help(area_retangulo)"
      ],
      "metadata": {
        "id": "J3HHsMYLYfyG"
      },
      "execution_count": null,
      "outputs": []
    },
    {
      "cell_type": "code",
      "source": [
        "## ou equivalentemente, podemos consultar o atributo __doc__\n",
        "print( area_retangulo.__doc__ )"
      ],
      "metadata": {
        "id": "ZuYRUhkSZryz"
      },
      "execution_count": null,
      "outputs": []
    },
    {
      "cell_type": "code",
      "source": [
        "## Geralmente o editor de códigos exibem a docstring\n",
        "## automaticamente quando o usuário passa o mouse\n",
        "## sobre a função ou começa a digitá-la.\n",
        "\n",
        "## Como exemplo, passe o mouse sobre a chamada da função ou apague\n",
        "## e comece a digitar novamente o nome da função\n",
        "area_retangulo()"
      ],
      "metadata": {
        "id": "to3B4jpbakFx"
      },
      "execution_count": null,
      "outputs": []
    },
    {
      "cell_type": "markdown",
      "source": [
        "## Função lambda\n",
        "\n",
        "`lambda` é uma forma curta e anônima de criar funções em Python. Ela é útil quando você precisa de uma função simples e rápida, especialmente como argumento para outras funções.\n",
        "\n",
        "### Sintaxe\n",
        "\n",
        "```python\n",
        "lambda argumentos: expressão\n",
        "```\n",
        "\n",
        "### Exemplo\n",
        "\n",
        "No código abaixo as duas funções fazem a mesma coisa, mas a com `lambda` utiliza menos código.\n",
        "\n",
        "```python\n",
        "# Com def\n",
        "def quadrado(x):\n",
        "    return x * x\n",
        "\n",
        "# Com lambda\n",
        "quadrado = lambda x: x * x\n",
        "```\n",
        "\n",
        "\n",
        "### Veja outros exemplos abaixo."
      ],
      "metadata": {
        "id": "RaeB5kXEbAV0"
      }
    },
    {
      "cell_type": "code",
      "source": [
        "# Exemplo 1: Soma de dois números\n",
        "\n",
        "soma = lambda a, b: a + b\n",
        "\n",
        "print(soma(2, 3))  # Saída: 5"
      ],
      "metadata": {
        "id": "xrb4tZhdbdlM"
      },
      "execution_count": null,
      "outputs": []
    },
    {
      "cell_type": "code",
      "source": [
        "# Exemplo 2: Verificar se um número é par\n",
        "\n",
        "eh_par = lambda x: x % 2 == 0\n",
        "\n",
        "print(eh_par(4))   # Saída: True\n"
      ],
      "metadata": {
        "id": "1kq1y5VsbooH"
      },
      "execution_count": null,
      "outputs": []
    },
    {
      "cell_type": "markdown",
      "source": [
        "## Função map()\n",
        "\n",
        "A função `map()` aplica uma função a cada item de um iterável (como uma lista, tupla, etc.) e retorna um iterador com os resultados.\n",
        "\n",
        "É muito usada quando você quer transformar elementos de uma coleção sem usar loops explícitos.\n",
        "\n",
        "### Sintaxe\n",
        "\n",
        "```python\n",
        "map(função, iterável)\n",
        "```\n",
        "- função: função que será aplicada a cada item.\n",
        "\n",
        "- iterável: a sequência de dados (lista, tupla, etc).\n",
        "\n",
        "O retorno é um objeto map, que você pode converter com list(), tuple(), etc.\n",
        "\n",
        "### Veja outros exemplos abaixo."
      ],
      "metadata": {
        "id": "rr-VRqpXdOY9"
      }
    },
    {
      "cell_type": "code",
      "source": [
        "# Exemplo 1: Dobrar os números de uma lista\n",
        "\n",
        "numeros = [1, 2, 3, 4]\n",
        "\n",
        "dobro = map( lambda x: x * 2, numeros )\n",
        "\n",
        "print(list(dobro))  # Saída: [2, 4, 6, 8]"
      ],
      "metadata": {
        "id": "XFnBfXCQb3XQ"
      },
      "execution_count": null,
      "outputs": []
    },
    {
      "cell_type": "code",
      "source": [
        "# Exemplo 2: Usando uma função definida com def\n",
        "\n",
        "def quadrado(n):\n",
        "    return n ** 2\n",
        "\n",
        "valores = [1, 2, 3, 4]\n",
        "\n",
        "resultado = map(quadrado, valores)\n",
        "\n",
        "print(list(resultado))  # Saída: [1, 4, 9, 16]"
      ],
      "metadata": {
        "id": "_1VQHI2pd4MU"
      },
      "execution_count": null,
      "outputs": []
    },
    {
      "cell_type": "code",
      "source": [
        "# Exemplo 3: Juntar nomes e sobrenomes\n",
        "\n",
        "nomes = [\"Ana\", \"Carlos\", \"Joana\"]\n",
        "sobrenomes = [\"Silva\", \"Souza\", \"Pereira\"]\n",
        "\n",
        "nomes_completos = map(lambda nome, sobrenome: f\"{nome} {sobrenome}\", nomes, sobrenomes)\n",
        "\n",
        "print(list(nomes_completos))\n",
        "\n",
        "# Saída: ['Ana Silva', 'Carlos Souza', 'Joana Pereira']"
      ],
      "metadata": {
        "id": "zS7tw26oeOgQ"
      },
      "execution_count": null,
      "outputs": []
    },
    {
      "cell_type": "markdown",
      "source": [
        "## Função filter()\n",
        "\n",
        "A função `filter()` serve para filtrar elementos de um iterável, mantendo apenas os que satisfazem uma condição (ou seja, para os quais a função retorna `True`).\n",
        "\n",
        "### Sintaxe\n",
        "\n",
        "```python\n",
        "filter( função, iterável )\n",
        "```\n",
        "- `função`: deve retornar `True` ou `False` para cada item.\n",
        "\n",
        "- `iterável`: a sequência de dados a ser filtrada.\n",
        "\n",
        "O resultado é um objeto filter (iterador) — geralmente transformado com list().\n",
        "\n",
        "### Veja outros exemplos abaixo."
      ],
      "metadata": {
        "id": "IGj59ibBlB-f"
      }
    },
    {
      "cell_type": "code",
      "source": [
        "# Exemplo 1: Filtrar números pares\n",
        "\n",
        "numeros = [1, 2, 3, 4, 5, 6]\n",
        "\n",
        "pares = filter(lambda x: x % 2 == 0, numeros)\n",
        "\n",
        "print(list(pares))  # Saída: [2, 4, 6]"
      ],
      "metadata": {
        "id": "5qaQGkVxlrS_"
      },
      "execution_count": null,
      "outputs": []
    },
    {
      "cell_type": "code",
      "source": [
        "# Exemplo 2: Filtrar strings não vazias\n",
        "\n",
        "nomes = [\"Ana\", \"\", \"João\", \"\", \"Maria\"]\n",
        "\n",
        "nao_vazios = filter(None, nomes)\n",
        "\n",
        "print(list(nao_vazios))  # Saída: ['Ana', 'João', 'Maria']\n"
      ],
      "metadata": {
        "id": "XbmufLxwlx_t"
      },
      "execution_count": null,
      "outputs": []
    },
    {
      "cell_type": "code",
      "source": [
        "# Exemplo 3: Usando função com def\n",
        "\n",
        "def maior_que_10(x):\n",
        "    return x > 10\n",
        "\n",
        "valores = [4, 15, 9, 12]\n",
        "\n",
        "resultado = filter(maior_que_10, valores)\n",
        "\n",
        "print(list(resultado))  # Saída: [15, 12]\n"
      ],
      "metadata": {
        "id": "tNHN43wKl8yn"
      },
      "execution_count": null,
      "outputs": []
    },
    {
      "cell_type": "markdown",
      "source": [
        "## Exercício 1: Análise de Números\n",
        "\n",
        "Crie uma função chamada `analisar_numeros` que recebe uma lista de números inteiros como parâmetro.\n",
        "\n",
        "A função deve retornar dois objetos:\n",
        "\n",
        "- Uma nova lista contendo apenas os números pares da lista original.\n",
        "\n",
        "- Um dicionário com as seguintes informações:\n",
        "\n",
        "  - \"maior\": o maior valor da lista\n",
        "\n",
        "  - \"menor\": o menor valor da lista\n",
        "\n",
        "  - \"soma\": a soma de todos os valores da lista\n"
      ],
      "metadata": {
        "id": "ws9NLTwbpfOI"
      }
    },
    {
      "cell_type": "code",
      "source": [
        "def maior(numeros):\n",
        "  maiornum = numeros[0]\n",
        "  for i in numeros:\n",
        "    if i > maiornum:\n",
        "      maiornum = i\n",
        "  return maiornum\n",
        "\n",
        "def menor(numeros):\n",
        "  menornum = numeros[0]\n",
        "  for i in numeros:\n",
        "    if i < menornum:\n",
        "      menornum = i\n",
        "  return menornum\n",
        "\n",
        "def soma(numeros):\n",
        "  s = 0\n",
        "  for i in numeros:\n",
        "    s = s + i\n",
        "  return s\n",
        "\n",
        "def analisar_numeros(numeros):\n",
        "  pares = filter(lambda x:x%2 == 0, numeros)\n",
        "  pares = list(pares)\n",
        "\n",
        "  dicionario = {\"maior\": maior(numeros),\n",
        "                \"menor\": menor(numeros),\n",
        "                \"soma\": soma(numeros)}\n",
        "  return pares, dicionario\n",
        "\n",
        "numeros= [1, 2, 3, 4, 5, 6, 7, 8, 9, 10, 0]\n",
        "analisar_numeros(numeros)"
      ],
      "metadata": {
        "id": "mZB7iL8Z4oK3",
        "outputId": "2217e18c-687f-49fc-b991-8d58a28b06ca",
        "colab": {
          "base_uri": "https://localhost:8080/"
        }
      },
      "execution_count": 18,
      "outputs": [
        {
          "output_type": "execute_result",
          "data": {
            "text/plain": [
              "([2, 4, 6, 8, 10, 0], {'maior': 10, 'menor': 0, 'soma': 55})"
            ]
          },
          "metadata": {},
          "execution_count": 18
        }
      ]
    },
    {
      "cell_type": "markdown",
      "source": [
        "## Exercício 2: Converter Celsius em Fahrenheit\n",
        "\n",
        "Crie uma função chamada `celsius_para_fahrenheit` que recebe uma temperatura em graus Celsius e retorna a temperatura equivalente em Fahrenheit. A fórmula de conversão é: $ 𝐹 = 𝐶 \\times 9/5 + 32$.\n",
        "\n",
        "- Faça um print do resultado.\n",
        "\n",
        "- Documente a função."
      ],
      "metadata": {
        "id": "sIKsst6rIIU4"
      }
    },
    {
      "cell_type": "code",
      "source": [
        "def celsius_para_fahrenheit(celsius):\n",
        "  \"\"\"\n",
        "  Tranformar uma temperatura em Celsius para Fahrenheit\n",
        "\n",
        "  Esta função utiliza da formula que calcula a temperatura em Fahrenheit com base de uma temperatura em celsius\n",
        "\n",
        "  Parameters:\n",
        "  um valor de temperatura em celsius\n",
        "\n",
        "  Returns:\n",
        "  float da temperatura em Fahrenheit\n",
        "\n",
        "  Examples:\n",
        "  >>> celsius_para_fahrenheit(30)\n",
        "  86.0\n",
        "  \"\"\"\n",
        "  F= celsius * 9/5 + 32\n",
        "  return F\n",
        "\n",
        "celsius= int(input())\n",
        "celsius_para_fahrenheit(celsius)\n"
      ],
      "metadata": {
        "id": "cfJEUsaW4SlW",
        "outputId": "f7237763-b3f2-4136-f0e4-e9ba36b09c6b",
        "colab": {
          "base_uri": "https://localhost:8080/"
        }
      },
      "execution_count": 3,
      "outputs": [
        {
          "name": "stdout",
          "output_type": "stream",
          "text": [
            "30\n"
          ]
        },
        {
          "output_type": "execute_result",
          "data": {
            "text/plain": [
              "86.0"
            ]
          },
          "metadata": {},
          "execution_count": 3
        }
      ]
    }
  ]
}